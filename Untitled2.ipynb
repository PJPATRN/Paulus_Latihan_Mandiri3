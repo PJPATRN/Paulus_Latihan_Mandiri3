{
  "cells": [
    {
      "cell_type": "markdown",
      "source": [
        "Buatlah program yang dapat menghitung hasil dari fungsi\n",
        "f(x) = 2x**3 + 2x + 15/x\n",
        "di mana x merupakan bilangan bulat yang dimasukkan oleh pengguna."
      ],
      "metadata": {
        "id": "Nc1_563FmtQ0"
      }
    },
    {
      "cell_type": "code",
      "source": [
        "print(\"Program ini dapat menghitung hasil dari 2x^3 + 2x + 15/x\")\n",
        "\n",
        "x = int(input(\"Masukkan nilai anda : \"))\n",
        "fx = 2*x**3 + 2*x + 15/x\n",
        "\n",
        "print(\"Ini adalah hasil fx : \", round(fx))"
      ],
      "metadata": {
        "colab": {
          "base_uri": "https://localhost:8080/"
        },
        "id": "NXZ-c7kd-KiH",
        "outputId": "27f20ea4-1398-4848-e118-4a9e9672b930"
      },
      "execution_count": null,
      "outputs": [
        {
          "output_type": "stream",
          "name": "stdout",
          "text": [
            "Program ini dapat menghitung hasil dari 2x^3 + 2x + 15/x\n",
            "Masukkan nilai anda : 5\n",
            "Ini adalah hasil fx :  263\n"
          ]
        }
      ]
    },
    {
      "cell_type": "code",
      "source": [
        "Dibayar = int(input(\"Masukkan gaji perjam yang anda di inginkan                                         : \"))\n",
        "Jumlah_jam_kerja = int(input(\"Masukkan jumlah jam kerja                                                          : \"))\n",
        "Hari = 5 * 7 * Jumlah_jam_kerja\n",
        "Gaji = Dibayar * Hari\n",
        "Pajak_kerja = 14/100 * Gaji\n",
        "Gaji_setelah_pajak = Gaji - Pajak_kerja\n",
        "Potongan_aksesoris = 10/100  * Gaji_setelah_pajak\n",
        "Potongan_alat_tulis = 1/100 * Gaji_setelah_pajak\n",
        "Sisa = Gaji - (Pajak_kerja + Potongan_aksesoris + Potongan_alat_tulis)\n",
        "Uang_sedekah = Sisa * 25/100\n",
        "Untuk_yatim = Uang_sedekah * 30/100\n",
        "Untuk_dhuafa = Uang_sedekah - Untuk_yatim\n",
        "\n",
        "print(\"Pendapatan Budi selama libur musim panas sebelum melakukan pembayaran pajak adalah :\", Gaji)\n",
        "print(\"Pendapatan Budi selama libur musim panas setelah melakukan pembayaran pajak adalah :\", Gaji_setelah_pajak)\n",
        "print(\"Jumlah uang yang akan Budi habiskan untuk membeli pakaian dan aksesoris adalah     :\", Potongan_aksesoris)\n",
        "print(\"Jumlah uang yang akan Budi habiskan untuk membeli alat tulis                       :\", Potongan_alat_tulis)\n",
        "print(\"Jumlah uang yang akan Budi sedekahkan                                              :\", Uang_sedekah)\n",
        "print(\"Jumlah uang yang akan diterima anak yatim                                          :\", Untuk_yatim)\n",
        "print(\"Jumlah uang yang akan diterima kaum dhuafa                                         :\", Untuk_dhuafa)"
      ],
      "metadata": {
        "id": "uMRxoIA1KSj0",
        "colab": {
          "base_uri": "https://localhost:8080/"
        },
        "outputId": "70479cff-5b1f-488f-ddf9-65ead545586d"
      },
      "execution_count": 7,
      "outputs": [
        {
          "output_type": "stream",
          "name": "stdout",
          "text": [
            "Masukkan gaji perjam yang anda di inginkan                                         : 8000\n",
            "Masukkan jumlah jam kerja                                                          : 12\n",
            "Pendapatan Budi selama libur musim panas sebelum melakukan pembayaran pajak adalah : 3360000\n",
            "Pendapatan Budi selama libur musim panas setelah melakukan pembayaran pajak adalah : 2889600.0\n",
            "Jumlah uang yang akan Budi habiskan untuk membeli pakaian dan aksesoris adalah     : 288960.0\n",
            "Jumlah uang yang akan Budi habiskan untuk membeli alat tulis                       : 28896.0\n",
            "Jumlah uang yang akan Budi sedekahkan                                              : 642936.0\n",
            "Jumlah uang yang akan diterima anak yatim                                          : 280.8\n",
            "Jumlah uang yang akan diterima kaum dhuafa                                         : 642655.2\n"
          ]
        }
      ]
    },
    {
      "cell_type": "code",
      "source": [
        "Dibayar = int(input(\"Masukkan gaji perjam yang anda di inginkan                                         : \"))\n",
        "Jumlah_jam_kerja = int(input(\"Masukkan jumlah jam kerja                                                          : \"))\n",
        "Hari = 5 * 7 * Jumlah_jam_kerja\n",
        "Gaji = Dibayar * Hari\n",
        "Pajak_kerja = 14/100 * Gaji\n",
        "Gaji_setelah_pajak = Gaji - Pajak_kerja\n",
        "Potongan_aksesoris = 10/100  * Gaji\n",
        "Potongan_alat_tulis = 1/100 * Gaji\n",
        "Sisa = Gaji - (Pajak_kerja + Potongan_aksesoris + Potongan_alat_tulis)\n",
        "Uang_sedekah = Sisa * 25/100\n",
        "Untuk_yatim = Uang_sedekah * 30/100\n",
        "Untuk_dhuafa = Uang_sedekah - Untuk_yatim\n",
        "\n",
        "print(\"Pendapatan Budi selama libur musim panas sebelum melakukan pembayaran pajak adalah :\", Gaji)\n",
        "print(\"Pendapatan Budi selama libur musim panas setelah melakukan pembayaran pajak adalah :\", Gaji_setelah_pajak)\n",
        "print(\"Jumlah uang yang akan Budi habiskan untuk membeli pakaian dan aksesoris adalah     :\", Potongan_aksesoris)\n",
        "print(\"Jumlah uang yang akan Budi habiskan untuk membeli alat tulis                       :\", Potongan_alat_tulis)\n",
        "print(\"Jumlah uang yang akan Budi sedekahkan                                              :\", Uang_sedekah)\n",
        "print(\"Jumlah uang yang akan diterima anak yatim                                          :\", Untuk_yatim)\n",
        "print(\"Jumlah uang yang akan diterima kaum dhuafa                                         :\", Untuk_dhuafa)"
      ],
      "metadata": {
        "colab": {
          "base_uri": "https://localhost:8080/"
        },
        "id": "LeUvZI8Fy7jy",
        "outputId": "1be3630b-cd5c-4b74-d2a8-79e81bd5464b"
      },
      "execution_count": 8,
      "outputs": [
        {
          "output_type": "stream",
          "name": "stdout",
          "text": [
            "Masukkan gaji perjam yang anda di inginkan                                         : 8000\n",
            "Masukkan jumlah jam kerja                                                          : 12\n",
            "Pendapatan Budi selama libur musim panas sebelum melakukan pembayaran pajak adalah : 3360000\n",
            "Pendapatan Budi selama libur musim panas setelah melakukan pembayaran pajak adalah : 2889600.0\n",
            "Jumlah uang yang akan Budi habiskan untuk membeli pakaian dan aksesoris adalah     : 336000.0\n",
            "Jumlah uang yang akan Budi habiskan untuk membeli alat tulis                       : 33600.0\n",
            "Jumlah uang yang akan Budi sedekahkan                                              : 630000.0\n",
            "Jumlah uang yang akan diterima anak yatim                                          : 189000.0\n",
            "Jumlah uang yang akan diterima kaum dhuafa                                         : 441000.0\n"
          ]
        }
      ]
    },
    {
      "cell_type": "code",
      "source": [
        "Budi = 10000\n",
        "Andi = 5000\n",
        "Rina = (Budi > Andi)\n",
        "Susi = (Budi < Andi)\n",
        "\n",
        "print(Rina)\n",
        "print(Susi)"
      ],
      "metadata": {
        "colab": {
          "base_uri": "https://localhost:8080/"
        },
        "id": "L2BJd24M58yn",
        "outputId": "c25a27cd-4494-40d7-dfb3-5f9d8a610617"
      },
      "execution_count": 1,
      "outputs": [
        {
          "output_type": "stream",
          "name": "stdout",
          "text": [
            "True\n",
            "False\n"
          ]
        }
      ]
    }
  ],
  "metadata": {
    "colab": {
      "provenance": []
    },
    "kernelspec": {
      "display_name": "Python 3",
      "name": "python3"
    },
    "language_info": {
      "name": "python"
    }
  },
  "nbformat": 4,
  "nbformat_minor": 0
}