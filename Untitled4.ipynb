{
  "nbformat": 4,
  "nbformat_minor": 0,
  "metadata": {
    "colab": {
      "provenance": []
    },
    "kernelspec": {
      "name": "python3",
      "display_name": "Python 3"
    },
    "language_info": {
      "name": "python"
    }
  },
  "cells": [
    {
      "cell_type": "markdown",
      "source": [
        "Boolean expression"
      ],
      "metadata": {
        "id": "1YUCruH3C8px"
      }
    },
    {
      "cell_type": "code",
      "source": [
        "Budi = 10000\n",
        "Andi = 5000\n",
        "Rina = (Budi > Andi)\n",
        "Susi = (Budi < Andi)\n",
        "\n",
        "print(Rina)\n",
        "print(Susi)"
      ],
      "metadata": {
        "id": "4mK6jRCkCrUw"
      },
      "execution_count": null,
      "outputs": []
    },
    {
      "cell_type": "markdown",
      "source": [
        "Pengenalan fungsi try exception"
      ],
      "metadata": {
        "id": "SgIv1jxIDEf8"
      }
    },
    {
      "cell_type": "code",
      "execution_count": 2,
      "metadata": {
        "colab": {
          "base_uri": "https://localhost:8080/"
        },
        "id": "vTJYvNaWBlUy",
        "outputId": "ebc9494c-6582-4fb3-ff91-1245106cae91"
      },
      "outputs": [
        {
          "output_type": "stream",
          "name": "stdout",
          "text": [
            "Masukkan frekuensi : 0\n",
            "Masukkan total frekuensi : 5\n",
            "Frekuensi relatif adalah 0.0%\n"
          ]
        }
      ],
      "source": [
        "Frekuensi = int(input(\"Masukkan frekuensi : \"))\n",
        "Total_Frekuensi = int(input(\"Masukkan total frekuensi : \"))\n",
        "Frekuensi_relatif = 0\n",
        "try:\n",
        "  Frekuensi_relatif = str((Frekuensi/Total_Frekuensi)*100) + \"%\"\n",
        "  Frekuensi\n",
        "except:\n",
        "  print(\"Total Frekuensi tidak boleh 0\")\n",
        "\n",
        "print(\"Frekuensi relatif adalah\", Frekuensi_relatif)"
      ]
    },
    {
      "cell_type": "markdown",
      "source": [
        "Percabangan"
      ],
      "metadata": {
        "id": "gB2ComNeqrjM"
      }
    },
    {
      "cell_type": "code",
      "source": [
        "Indomie = 5000\n",
        "Kapal_Api = 3000\n",
        "Aqua = 5000\n",
        "Beras_99 = 165000\n",
        "\n",
        "input1 = input('Cari Harga Barang : ')\n",
        "\n",
        "if input1 == (\"Indomie\") or input1 == (\"indomie\") or input1 == (\"INDOMIE\"):\n",
        "    print (\"Harga produk : \" + str(Indomie))\n",
        "elif input1 == (\"Aqua\") or input1 == (\"aqua\") or input1 == (\"AQUA\"):\n",
        "    print (\"Harga produk : \" + str(Aqua))\n",
        "elif input1 == (\"Beras 99\") or input1 == (\"Beras_99\") or input1 == (\"beras_99\") or input1 == (\"BERAS_99\") or input1 == (\"BERAS 99\"):\n",
        "    print (\"Harga produk : \" + str(Beras_99))\n",
        "elif input1 == (\"Kapal_Api\") or input1 == (\"KAPAL_API\") or input1 == (\"KAPAL API\") or input1 == (\"kapal_api\") or input1 == (\"kapal api\") or input1 == (\"Kapal api\"):\n",
        "    print (\"Harga produk : \" + str(Kapal_Api))\n",
        "else:\n",
        "  print(\"Maaf, barang tidak tersedia\")"
      ],
      "metadata": {
        "id": "qlR_kzhHBuuc"
      },
      "execution_count": null,
      "outputs": []
    },
    {
      "cell_type": "markdown",
      "source": [
        "Latihan 3.1"
      ],
      "metadata": {
        "id": "XuH74rcuq9Wc"
      }
    },
    {
      "cell_type": "code",
      "source": [
        "tinggi = input(\"Masukkan tinggi badan anda : \")\n",
        "try:\n",
        "  tinggi = float(tinggi)\n",
        "  if tinggi <= 166 and tinggi >= 154:\n",
        "    print(\">>> Tidak terlalu pendek\")\n",
        "  elif tinggi > 166:\n",
        "    print(\">>> Anda tinggi\")\n",
        "  else:\n",
        "    print(\">>> Anda diberkati\")\n",
        "except:\n",
        "  print(\"Input harus dalam bilangan\")"
      ],
      "metadata": {
        "colab": {
          "base_uri": "https://localhost:8080/"
        },
        "id": "rpE0dYkzMMV2",
        "outputId": "f8b9af9a-32c7-4668-ce89-a291a26886c6"
      },
      "execution_count": 11,
      "outputs": [
        {
          "output_type": "stream",
          "name": "stdout",
          "text": [
            "Masukkan tinggi badan anda : satu lima dua\n",
            "Input harus dalam bilangan\n"
          ]
        }
      ]
    },
    {
      "cell_type": "markdown",
      "source": [
        "Latihan 3.2"
      ],
      "metadata": {
        "id": "U-6BQrADQG6W"
      }
    },
    {
      "cell_type": "code",
      "source": [
        "bilangan = input(\"Masukkan bilangan anda : \")\n",
        "try:\n",
        "  bilangan = int(bilangan)\n",
        "  print(\">>> Bilangan positif\" if bilangan > 0 else \">>> Bilangan negatif\" if bilangan < 0 else \">>> Bilangan null\")\n",
        "except:\n",
        "  print(\">>> Input dalam bentuk bilangan\")"
      ],
      "metadata": {
        "colab": {
          "base_uri": "https://localhost:8080/"
        },
        "id": "ns-6mQ8gSuNv",
        "outputId": "8692a330-7d28-4ffb-8d82-f46efa429d9f"
      },
      "execution_count": 3,
      "outputs": [
        {
          "output_type": "stream",
          "name": "stdout",
          "text": [
            "Masukkan bilangan anda : satu\n",
            ">>> Harus dalam bentuk bilangan\n"
          ]
        }
      ]
    },
    {
      "cell_type": "markdown",
      "source": [
        "Latihan 3.3"
      ],
      "metadata": {
        "id": "XyeJaXfad3Ww"
      }
    },
    {
      "cell_type": "code",
      "source": [
        "Bulan = input(\"Bulan yang ingin anda cek di tahun 2020 (1 - 12)\\n>>>> \")\n",
        "\n",
        "try:\n",
        "  if Bulan == \"1\":\n",
        "    print(\">>> Ada 31 hari pada bulan\", Bulan)\n",
        "  elif Bulan == \"2\":\n",
        "    print(\">>> Ada 29 hari pada bulan\", Bulan)\n",
        "  elif Bulan == \"3\":\n",
        "    print(\">>> Ada 31 hari pada bulan\", Bulan)\n",
        "  elif Bulan == \"4\":\n",
        "    print(\">>> Ada 30 hari pada bulan\", Bulan)\n",
        "  elif Bulan == \"5\":\n",
        "    print(\">>> Ada 31 hari pada bulan\", Bulan)\n",
        "  elif Bulan == \"6\":\n",
        "    print(\">>> Ada 30 hari pada bulan\", Bulan)\n",
        "  elif Bulan == \"7\":\n",
        "    print(\">>> Ada 31 hari pada bulan\", Bulan)\n",
        "  elif Bulan == \"8\":\n",
        "    print(\">>> Ada 31 hari pada bulan\", Bulan)\n",
        "  elif Bulan == \"9\":\n",
        "    print(\">>> Ada 30 hari pada bulan\", Bulan)\n",
        "  elif Bulan == \"10\":\n",
        "    print(\">>> Ada 31 hari pada bulan\", Bulan)\n",
        "  elif Bulan == \"11\":\n",
        "    print(\">>> Ada 30 hari pada bulan\", Bulan)\n",
        "  elif Bulan == \"12\":\n",
        "    print(\">>> Ada 31 hari pada bulan\", Bulan)\n",
        "  else:\n",
        "    print(\">>> Bulan tidak valid\")\n",
        "except:\n",
        "  print(\">>> Bulan tidak valid\")"
      ],
      "metadata": {
        "colab": {
          "base_uri": "https://localhost:8080/"
        },
        "id": "xp1ql_agd6aw",
        "outputId": "4ade038c-ae75-4007-b85f-fde47ffd8f39"
      },
      "execution_count": 15,
      "outputs": [
        {
          "output_type": "stream",
          "name": "stdout",
          "text": [
            "Bulan yang ingin anda cek di tahun 2020 (1 - 12)\n",
            ">>>> 12\n",
            ">>> Ada 31 hari pada bulan 12\n"
          ]
        }
      ]
    },
    {
      "cell_type": "markdown",
      "source": [
        "Latihan 3.4"
      ],
      "metadata": {
        "id": "s81UVgouqVk8"
      }
    },
    {
      "cell_type": "code",
      "source": [
        "# Sebuah program meminta pengguna memasukkan ketiga panjang sisi suatu segitiga\n",
        "# (berarti pengguna memasukkan tiga bilangan). Jika ketiga sisi segitiga tersebut semuanya sama,\n",
        "# tampilkan pesan: \"3 sisi sama\". Jika hanya ada dua sisi yang sama panjang, tampilkan pesan \"2\n",
        "# sisi sama\". Jika tidak ada yang sama maka tampilkan pesan: \"Tidak ada yang sama\"\n",
        "input1 = input(\"Panjang sisi 1 = \")\n",
        "input2 = input(\"Panjang sisi 2 = \")\n",
        "input3 = input(\"Panjang sisi 3 = \")\n",
        "\n",
        "try:\n",
        "  input1 = int(input1)\n",
        "  input2 = int(input2)\n",
        "  input3 = int(input3)\n",
        "\n",
        "  if input1 == input2 and input2 == input3 and input1 == input3:\n",
        "    print(\"Ada tiga sisi yang sama panjang\")\n",
        "  elif (input1 == input2 and input1 != input3) or (input2 == input3 and input2 != input1) or (input1 == input3 and input1 != input2):\n",
        "    print(\"Ada dua sisi yang sama panjang\")\n",
        "  else:\n",
        "    print(\"Tidak ada sisi yang sama panjang\")\n",
        "except:\n",
        "  print(\"Input tidak valid\")"
      ],
      "metadata": {
        "colab": {
          "base_uri": "https://localhost:8080/"
        },
        "id": "Yfj4pif9uJwE",
        "outputId": "f522d709-3d31-4ad2-975e-cac078c6afe3"
      },
      "execution_count": 34,
      "outputs": [
        {
          "output_type": "stream",
          "name": "stdout",
          "text": [
            "Panjang sisi 1 = 3\n",
            "Panjang sisi 2 = 3\n",
            "Panjang sisi 3 = 3\n",
            "Ada tiga sisi yang sama panjang\n"
          ]
        }
      ]
    }
  ]
}